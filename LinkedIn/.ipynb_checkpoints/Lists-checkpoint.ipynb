{
 "cells": [
  {
   "cell_type": "code",
   "execution_count": 1,
   "id": "50934097",
   "metadata": {},
   "outputs": [
    {
     "data": {
      "text/plain": [
       "['My', 'name', 'is', 'Gautam.', 'I', 'live', 'in', 'Pune']"
      ]
     },
     "execution_count": 1,
     "metadata": {},
     "output_type": "execute_result"
    }
   ],
   "source": [
    "my_string = \"My name is Gautam. I live in Pune\"\n",
    "my_string.split()"
   ]
  },
  {
   "cell_type": "code",
   "execution_count": 6,
   "id": "806472be",
   "metadata": {},
   "outputs": [
    {
     "data": {
      "text/plain": [
       "['my', 'name', 'is', 'gautam', 'i', 'live', 'in', 'pune']"
      ]
     },
     "execution_count": 6,
     "metadata": {},
     "output_type": "execute_result"
    }
   ],
   "source": [
    "def cleanWord(word):\n",
    "    return word.replace('.','').lower()\n",
    "\n",
    "[cleanWord(word) for word in my_string.split()]"
   ]
  },
  {
   "cell_type": "code",
   "execution_count": 7,
   "id": "6d753b6a",
   "metadata": {},
   "outputs": [
    {
     "name": "stdout",
     "output_type": "stream",
     "text": [
      "[['my', 'name', 'is', 'gautam'], ['i', 'live', 'in', 'pune']]\n"
     ]
    }
   ],
   "source": [
    "print([[cleanWord(word) for word in sentence.split()] for sentence in my_string.split('.') ])"
   ]
  },
  {
   "cell_type": "code",
   "execution_count": 8,
   "id": "c35212cb",
   "metadata": {},
   "outputs": [
    {
     "data": {
      "text/plain": [
       "{'a': 'aardvark', 'b': 'bear', 'c': 'cat', 'd': 'dog'}"
      ]
     },
     "execution_count": 8,
     "metadata": {},
     "output_type": "execute_result"
    }
   ],
   "source": [
    "# Dict comprehension\n",
    "# {key:val for key,val in iterable}\n",
    "\n",
    "animalList = [('a','aardvark'),('b','bear'),('c','cat'),('d','dog')]\n",
    "animals = {item[0]:item[1] for item in animalList}\n",
    "animals"
   ]
  },
  {
   "cell_type": "code",
   "execution_count": 9,
   "id": "ace4bef1",
   "metadata": {},
   "outputs": [
    {
     "data": {
      "text/plain": [
       "{'a': 'aardvark', 'b': 'bear', 'c': 'cat', 'd': 'dog'}"
      ]
     },
     "execution_count": 9,
     "metadata": {},
     "output_type": "execute_result"
    }
   ],
   "source": [
    "animals = {key:value for key,value in animalList}\n",
    "animals"
   ]
  },
  {
   "cell_type": "code",
   "execution_count": 10,
   "id": "9c3c7f2e",
   "metadata": {},
   "outputs": [
    {
     "data": {
      "text/plain": [
       "[('a', 'aardvark'), ('b', 'bear'), ('c', 'cat'), ('d', 'dog')]"
      ]
     },
     "execution_count": 10,
     "metadata": {},
     "output_type": "execute_result"
    }
   ],
   "source": [
    "list(animals.items())"
   ]
  },
  {
   "cell_type": "code",
   "execution_count": 15,
   "id": "22477850",
   "metadata": {},
   "outputs": [
    {
     "name": "stdout",
     "output_type": "stream",
     "text": [
      "AABBBCC\n"
     ]
    }
   ],
   "source": [
    "def encodeString(stringVal):\n",
    "    encodedList = []\n",
    "    prevChar = stringVal[0]\n",
    "    count = 0\n",
    "    for char in stringVal:\n",
    "        if prevChar!= char:\n",
    "            encodedList.append((prevChar,count))\n",
    "            count = 0\n",
    "        prevChar = char\n",
    "        count+=1\n",
    "        \n",
    "    encodedList.append((prevChar,count))\n",
    "    return encodedList\n",
    "\n",
    "def decodeString(encodedList):\n",
    "    decodedStr = ''\n",
    "    for item in encodedList:\n",
    "        decodedStr = decodedStr+item[0]*item[1]\n",
    "        \n",
    "    return decodedStr\n",
    "print(decodeString([('A', 2), ('B', 3), ('C', 2)]))\n",
    "\n",
    "# print(encodeString('AABBBCC'))\n",
    "            "
   ]
  },
  {
   "cell_type": "code",
   "execution_count": 21,
   "id": "f60078b5",
   "metadata": {},
   "outputs": [
    {
     "name": "stdout",
     "output_type": "stream",
     "text": [
      "['aardvark', 'antelope']\n",
      "['bear']\n",
      "animal is -bear\n",
      "['cat']\n",
      "animal is -cat\n",
      "['dog']\n",
      "animal is -dog\n"
     ]
    }
   ],
   "source": [
    "animals={\n",
    "    'a':['aardvark','antelope'],\n",
    "    'b':['bear'],\n",
    "    'c':['cat'],\n",
    "    'd':['dog']\n",
    "}\n",
    "\n",
    "for letter,animal in animals.items():\n",
    "    print(animal)\n",
    "    if len(animal)>1:\n",
    "        continue\n",
    "    print(f'animal is -{animal[0]}')"
   ]
  },
  {
   "cell_type": "code",
   "execution_count": 36,
   "id": "58bbc756",
   "metadata": {
    "scrolled": true
   },
   "outputs": [
    {
     "name": "stdout",
     "output_type": "stream",
     "text": [
      "2\n",
      "2.23606797749979\n"
     ]
    }
   ],
   "source": [
    "print(int(5**0.5))\n",
    "print(5**0.5)"
   ]
  },
  {
   "cell_type": "code",
   "execution_count": 41,
   "id": "ed3750a7",
   "metadata": {},
   "outputs": [
    {
     "name": "stdout",
     "output_type": "stream",
     "text": [
      "[2, 3, 4, 5, 6, 7, 8, 9, 10, 11, 12, 13, 14, 15, 16, 17, 18, 19, 20, 21, 22, 23, 24, 25, 26, 27, 28, 29, 30, 31, 32, 33, 34, 35, 36, 37, 38, 39, 40, 41, 42, 43, 44, 45, 46, 47, 48, 49, 50, 51, 52, 53, 54, 55, 56, 57, 58, 59, 60, 61, 62, 63, 64, 65, 66, 67, 68, 69, 70, 71, 72, 73, 74, 75, 76, 77, 78, 79, 80, 81, 82, 83, 84, 85, 86, 87, 88, 89, 90, 91, 92, 93, 94, 95, 96, 97, 98, 99]\n"
     ]
    }
   ],
   "source": [
    "myLst= [2]\n",
    "for i in range(3,100):\n",
    "    count = 0\n",
    "    for num in range(2,(i//2+1)):\n",
    "        if i%num ==0:\n",
    "            count+=1\n",
    "            break\n",
    "            \n",
    "    if count==0 and i!=1:\n",
    "        myLst.append(i)\n",
    "        \n",
    "print(myLst)\n",
    "        "
   ]
  }
 ],
 "metadata": {
  "kernelspec": {
   "display_name": "Python 3 (ipykernel)",
   "language": "python",
   "name": "python3"
  },
  "language_info": {
   "codemirror_mode": {
    "name": "ipython",
    "version": 3
   },
   "file_extension": ".py",
   "mimetype": "text/x-python",
   "name": "python",
   "nbconvert_exporter": "python",
   "pygments_lexer": "ipython3",
   "version": "3.7.9"
  }
 },
 "nbformat": 4,
 "nbformat_minor": 5
}
