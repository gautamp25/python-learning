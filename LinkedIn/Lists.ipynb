{
 "cells": [
  {
   "cell_type": "code",
   "execution_count": 1,
   "id": "ec20adb9",
   "metadata": {},
   "outputs": [
    {
     "data": {
      "text/plain": [
       "['My', 'name', 'is', 'Gautam.', 'I', 'live', 'in', 'Pune']"
      ]
     },
     "execution_count": 1,
     "metadata": {},
     "output_type": "execute_result"
    }
   ],
   "source": [
    "my_string = \"My name is Gautam. I live in Pune\"\n",
    "my_string.split()"
   ]
  },
  {
   "cell_type": "code",
   "execution_count": 6,
   "id": "8999d861",
   "metadata": {},
   "outputs": [
    {
     "data": {
      "text/plain": [
       "['my', 'name', 'is', 'gautam', 'i', 'live', 'in', 'pune']"
      ]
     },
     "execution_count": 6,
     "metadata": {},
     "output_type": "execute_result"
    }
   ],
   "source": [
    "def cleanWord(word):\n",
    "    return word.replace('.','').lower()\n",
    "\n",
    "[cleanWord(word) for word in my_string.split()]"
   ]
  },
  {
   "cell_type": "code",
   "execution_count": 7,
   "id": "0dffab7f",
   "metadata": {},
   "outputs": [
    {
     "name": "stdout",
     "output_type": "stream",
     "text": [
      "[['my', 'name', 'is', 'gautam'], ['i', 'live', 'in', 'pune']]\n"
     ]
    }
   ],
   "source": [
    "print([[cleanWord(word) for word in sentence.split()] for sentence in my_string.split('.') ])"
   ]
  },
  {
   "cell_type": "code",
   "execution_count": 8,
   "id": "c301e145",
   "metadata": {},
   "outputs": [
    {
     "data": {
      "text/plain": [
       "{'a': 'aardvark', 'b': 'bear', 'c': 'cat', 'd': 'dog'}"
      ]
     },
     "execution_count": 8,
     "metadata": {},
     "output_type": "execute_result"
    }
   ],
   "source": [
    "# Dict comprehension\n",
    "# {key:val for key,val in iterable}\n",
    "\n",
    "animalList = [('a','aardvark'),('b','bear'),('c','cat'),('d','dog')]\n",
    "animals = {item[0]:item[1] for item in animalList}\n",
    "animals"
   ]
  },
  {
   "cell_type": "code",
   "execution_count": 9,
   "id": "1b579848",
   "metadata": {},
   "outputs": [
    {
     "data": {
      "text/plain": [
       "{'a': 'aardvark', 'b': 'bear', 'c': 'cat', 'd': 'dog'}"
      ]
     },
     "execution_count": 9,
     "metadata": {},
     "output_type": "execute_result"
    }
   ],
   "source": [
    "animals = {key:value for key,value in animalList}\n",
    "animals"
   ]
  },
  {
   "cell_type": "code",
   "execution_count": 10,
   "id": "48444266",
   "metadata": {},
   "outputs": [
    {
     "data": {
      "text/plain": [
       "[('a', 'aardvark'), ('b', 'bear'), ('c', 'cat'), ('d', 'dog')]"
      ]
     },
     "execution_count": 10,
     "metadata": {},
     "output_type": "execute_result"
    }
   ],
   "source": [
    "list(animals.items())"
   ]
  },
  {
   "cell_type": "code",
   "execution_count": 15,
   "id": "ca48ed51",
   "metadata": {},
   "outputs": [
    {
     "name": "stdout",
     "output_type": "stream",
     "text": [
      "AABBBCC\n"
     ]
    }
   ],
   "source": [
    "def encodeString(stringVal):\n",
    "    encodedList = []\n",
    "    prevChar = stringVal[0]\n",
    "    count = 0\n",
    "    for char in stringVal:\n",
    "        if prevChar!= char:\n",
    "            encodedList.append((prevChar,count))\n",
    "            count = 0\n",
    "        prevChar = char\n",
    "        count+=1\n",
    "        \n",
    "    encodedList.append((prevChar,count))\n",
    "    return encodedList\n",
    "\n",
    "def decodeString(encodedList):\n",
    "    decodedStr = ''\n",
    "    for item in encodedList:\n",
    "        decodedStr = decodedStr+item[0]*item[1]\n",
    "        \n",
    "    return decodedStr\n",
    "print(decodeString([('A', 2), ('B', 3), ('C', 2)]))\n",
    "\n",
    "# print(encodeString('AABBBCC'))\n",
    "            "
   ]
  },
  {
   "cell_type": "code",
   "execution_count": 21,
   "id": "7da1e6df",
   "metadata": {},
   "outputs": [
    {
     "name": "stdout",
     "output_type": "stream",
     "text": [
      "['aardvark', 'antelope']\n",
      "['bear']\n",
      "animal is -bear\n",
      "['cat']\n",
      "animal is -cat\n",
      "['dog']\n",
      "animal is -dog\n"
     ]
    }
   ],
   "source": [
    "animals={\n",
    "    'a':['aardvark','antelope'],\n",
    "    'b':['bear'],\n",
    "    'c':['cat'],\n",
    "    'd':['dog']\n",
    "}\n",
    "\n",
    "for letter,animal in animals.items():\n",
    "    print(animal)\n",
    "    if len(animal)>1:\n",
    "        continue\n",
    "    print(f'animal is -{animal[0]}')"
   ]
  },
  {
   "cell_type": "code",
   "execution_count": 56,
   "id": "c241ce20",
   "metadata": {
    "scrolled": true
   },
   "outputs": [
    {
     "name": "stdout",
     "output_type": "stream",
     "text": [
      "2\n",
      "2.23606797749979\n"
     ]
    },
    {
     "data": {
      "text/plain": [
       "2"
      ]
     },
     "execution_count": 56,
     "metadata": {},
     "output_type": "execute_result"
    }
   ],
   "source": [
    "print(int(5**0.5))\n",
    "print(5**0.5)\n",
    "4//2\n"
   ]
  },
  {
   "cell_type": "code",
   "execution_count": 57,
   "id": "f901e49e",
   "metadata": {},
   "outputs": [
    {
     "name": "stdout",
     "output_type": "stream",
     "text": [
      "2\n",
      "3\n",
      "4\n"
     ]
    }
   ],
   "source": [
    "for d in range(2,5):\n",
    "    print(d)"
   ]
  },
  {
   "cell_type": "code",
   "execution_count": 52,
   "id": "6ae7c50b",
   "metadata": {},
   "outputs": [
    {
     "name": "stdout",
     "output_type": "stream",
     "text": [
      "3\n",
      "4\n",
      "5\n",
      "6\n",
      "7\n",
      "8\n",
      "9\n",
      "[2, 3, 5, 7]\n"
     ]
    }
   ],
   "source": [
    "myLst= [2]\n",
    "for i in range(3,10):\n",
    "    count = 0\n",
    "    print(i)\n",
    "    for num in range(2,(i//2+1)):\n",
    "        if i%num ==0:\n",
    "            count+=1\n",
    "            break\n",
    "            \n",
    "    if count==0 and i!=1:\n",
    "        myLst.append(i)\n",
    "        \n",
    "print(myLst)\n",
    "        "
   ]
  },
  {
   "cell_type": "code",
   "execution_count": 58,
   "id": "3be9dd91",
   "metadata": {},
   "outputs": [
    {
     "data": {
      "text/plain": [
       "[1, 'Monty', 'Python', 'Monty', 5, 'Monty Python', 7, 'Monty', 'Python']"
      ]
     },
     "execution_count": 58,
     "metadata": {},
     "output_type": "execute_result"
    }
   ],
   "source": [
    "['Monty Python' if n % 6 == 0 else 'Python' if n % 3 == 0 else 'Monty' if n % 2 == 0 else n for n in range(1, 10)]"
   ]
  },
  {
   "cell_type": "code",
   "execution_count": 62,
   "id": "8c1eca41",
   "metadata": {},
   "outputs": [
    {
     "name": "stdout",
     "output_type": "stream",
     "text": [
      "1 Hello\n",
      "2\n"
     ]
    }
   ],
   "source": [
    "def myfunc(a,b,msg=\"Hi\"):\n",
    "    print(a,b)\n",
    "    print(msg)\n",
    "myfunc(1,'Hello',2)"
   ]
  },
  {
   "cell_type": "code",
   "execution_count": 66,
   "id": "36e840a9",
   "metadata": {},
   "outputs": [
    {
     "data": {
      "text/plain": [
       "7"
      ]
     },
     "execution_count": 66,
     "metadata": {},
     "output_type": "execute_result"
    }
   ],
   "source": [
    "(lambda x:x+3)(4)\n"
   ]
  },
  {
   "cell_type": "code",
   "execution_count": 67,
   "id": "a8ebadb8",
   "metadata": {},
   "outputs": [
    {
     "name": "stdout",
     "output_type": "stream",
     "text": [
      "17\n"
     ]
    }
   ],
   "source": [
    "def someFunc(func):\n",
    "    print(func(5) + 2)\n",
    "\n",
    "someFunc(lambda x: x * 3)"
   ]
  },
  {
   "cell_type": "code",
   "execution_count": 88,
   "id": "7466f685",
   "metadata": {},
   "outputs": [
    {
     "data": {
      "text/plain": [
       "{'add',\n",
       " 'another',\n",
       " 'gautam',\n",
       " 'here',\n",
       " 'hi',\n",
       " 'i',\n",
       " 'im',\n",
       " 'is',\n",
       " 'some',\n",
       " 'text',\n",
       " 'to',\n",
       " 'want'}"
      ]
     },
     "execution_count": 88,
     "metadata": {},
     "output_type": "execute_result"
    }
   ],
   "source": [
    "class WordSet:\n",
    "    def __init__(self):\n",
    "        self.words = set()\n",
    "        \n",
    "    def addText(self,txt):\n",
    "        text = self.cleanText(txt)\n",
    "        for word in text.split():\n",
    "            self.words.add(word)\n",
    "            \n",
    "    def cleanText(self,text): \n",
    "        text = text.replace('!','').replace('.','').replace(',','').replace('\\'','')\n",
    "        return text.lower()\n",
    "                                             \n",
    "        \n",
    "wordSet = WordSet()\n",
    "wordSet.addText('Hi, I\\'m Gautam! Here is some text I want to add.')\n",
    "wordSet.addText('Here is another text.')\n",
    "                                             \n",
    "wordSet.words\n",
    "                                             "
   ]
  },
  {
   "cell_type": "markdown",
   "id": "35d9f264",
   "metadata": {},
   "source": [
    "# THIS is DATA"
   ]
  },
  {
   "cell_type": "code",
   "execution_count": null,
   "id": "c0dcf717",
   "metadata": {},
   "outputs": [],
   "source": []
  }
 ],
 "metadata": {
  "kernelspec": {
   "display_name": "Python 3 (ipykernel)",
   "language": "python",
   "name": "python3"
  },
  "language_info": {
   "codemirror_mode": {
    "name": "ipython",
    "version": 3
   },
   "file_extension": ".py",
   "mimetype": "text/x-python",
   "name": "python",
   "nbconvert_exporter": "python",
   "pygments_lexer": "ipython3",
   "version": "3.7.9"
  }
 },
 "nbformat": 4,
 "nbformat_minor": 5
}
